{
  "nbformat": 4,
  "nbformat_minor": 0,
  "metadata": {
    "colab": {
      "name": "Day2_DataScience_LetsUpgrade.ipynb",
      "provenance": [],
      "authorship_tag": "ABX9TyMDg/vT67VNb87FimrQt5az",
      "include_colab_link": true
    },
    "kernelspec": {
      "name": "python3",
      "display_name": "Python 3"
    }
  },
  "cells": [
    {
      "cell_type": "markdown",
      "metadata": {
        "id": "view-in-github",
        "colab_type": "text"
      },
      "source": [
        "<a href=\"https://colab.research.google.com/github/snehasajugeorge/DataScience_LetsUpgrade/blob/main/Day2_DataScience_LetsUpgrade.ipynb\" target=\"_parent\"><img src=\"https://colab.research.google.com/assets/colab-badge.svg\" alt=\"Open In Colab\"/></a>"
      ]
    },
    {
      "cell_type": "code",
      "metadata": {
        "id": "e0hRMSj1f5lO",
        "outputId": "3fc61b41-95d3-4fdf-864a-8c18962eb7dd",
        "colab": {
          "base_uri": "https://localhost:8080/"
        }
      },
      "source": [
        "#Q1\n",
        "list1 = [19,76, 4, 35, 60, 93] \n",
        "for num in list1:  \n",
        "    if num % 2 == 0: \n",
        "       print(num, end = \" \")"
      ],
      "execution_count": 2,
      "outputs": [
        {
          "output_type": "stream",
          "text": [
            "76 4 60 "
          ],
          "name": "stdout"
        }
      ]
    },
    {
      "cell_type": "code",
      "metadata": {
        "id": "3qCaIbzk0b6S",
        "outputId": "eef12955-102c-4ff9-c4d6-aea242860d0c",
        "colab": {
          "base_uri": "https://localhost:8080/"
        }
      },
      "source": [
        "#Q2\n",
        "# List\n",
        "str1 = \"Aeroplane\"\n",
        "s = list(str1)\n",
        "print(s)\n",
        "print(type(s))\n",
        "# Indexing\n",
        "print(s[6])\n",
        "print(s[5])\n",
        "print(s[-1])\n",
        "print(s[3]==s[-6])\n",
        "print(s[-8])"
      ],
      "execution_count": null,
      "outputs": [
        {
          "output_type": "stream",
          "text": [
            "['A', 'e', 'r', 'o', 'p', 'l', 'a', 'n', 'e']\n",
            "<class 'list'>\n",
            "a\n",
            "l\n",
            "e\n",
            "True\n",
            "e\n"
          ],
          "name": "stdout"
        }
      ]
    },
    {
      "cell_type": "code",
      "metadata": {
        "id": "IdbaKkJY1JRc",
        "outputId": "3b4f50b6-17ba-4a9b-9d24-b4827164a805",
        "colab": {
          "base_uri": "https://localhost:8080/"
        }
      },
      "source": [
        "str1 = \"Trivandrum\"\n",
        "s = list(str1)\n",
        "print(s)\n",
        "# Slicing\n",
        "print(s[:5])\n",
        "print(s[1:4])\n",
        "print(s[0:4])\n",
        "print(s[-4:])\n",
        "print(s[2:6])\n",
        "print(s[:-7])"
      ],
      "execution_count": null,
      "outputs": [
        {
          "output_type": "stream",
          "text": [
            "['T', 'r', 'i', 'v', 'a', 'n', 'd', 'r', 'u', 'm']\n",
            "['T', 'r', 'i', 'v', 'a']\n",
            "['r', 'i', 'v']\n",
            "['T', 'r', 'i', 'v']\n",
            "['d', 'r', 'u', 'm']\n",
            "['i', 'v', 'a', 'n']\n",
            "['T', 'r', 'i']\n"
          ],
          "name": "stdout"
        }
      ]
    },
    {
      "cell_type": "code",
      "metadata": {
        "id": "ghaUJ1lT1uic",
        "outputId": "11392df7-d40c-4403-a16c-eb9dcd0946b0",
        "colab": {
          "base_uri": "https://localhost:8080/"
        }
      },
      "source": [
        "# List are Mutable\n",
        "l = [1,2,3,4]\n",
        "print(l)\n",
        "print(l[2])\n",
        "l[2] = \"Sneha\"\n",
        "print(l)\n"
      ],
      "execution_count": null,
      "outputs": [
        {
          "output_type": "stream",
          "text": [
            "[1, 2, 3, 4]\n",
            "3\n",
            "[1, 2, 'Sneha', 4]\n"
          ],
          "name": "stdout"
        }
      ]
    },
    {
      "cell_type": "code",
      "metadata": {
        "id": "DTGwUDMb2Vyc",
        "outputId": "7ab60dc4-3756-4c45-c659-30f16f89de66",
        "colab": {
          "base_uri": "https://localhost:8080/"
        }
      },
      "source": [
        "#List functions\n",
        "l = ['a','b','c','d']\n",
        "print(l)\n",
        "l.append(\"Apple\")\n",
        "print(l)\n",
        "l.append(\"Banana\")\n",
        "print(l)\n",
        "l.extend([567,\"Sneha\",90])\n",
        "print(l)"
      ],
      "execution_count": null,
      "outputs": [
        {
          "output_type": "stream",
          "text": [
            "['a', 'b', 'c', 'd']\n",
            "['a', 'b', 'c', 'd', 'Apple']\n",
            "['a', 'b', 'c', 'd', 'Apple', 'Banana']\n",
            "['a', 'b', 'c', 'd', 'Apple', 'Banana', 567, 'Sneha', 90]\n"
          ],
          "name": "stdout"
        }
      ]
    },
    {
      "cell_type": "code",
      "metadata": {
        "id": "mEsmPMEl3Dmm",
        "outputId": "3505f65b-9242-4463-d647-77f285b48b62",
        "colab": {
          "base_uri": "https://localhost:8080/"
        }
      },
      "source": [
        "l = [6,5,9,2,0,8]\n",
        "print(l)\n",
        "l.sort()\n",
        "print(l)"
      ],
      "execution_count": null,
      "outputs": [
        {
          "output_type": "stream",
          "text": [
            "[6, 5, 9, 2, 0, 8]\n",
            "[0, 2, 5, 6, 8, 9]\n"
          ],
          "name": "stdout"
        }
      ]
    },
    {
      "cell_type": "code",
      "metadata": {
        "id": "zDEEH6NS3df3",
        "outputId": "9d885f8e-bd81-4885-ea46-34f1ee58ed5f",
        "colab": {
          "base_uri": "https://localhost:8080/"
        }
      },
      "source": [
        "l = [9,6,5,8,7,3,2,4,1,0]\n",
        "print(l)\n",
        "l.sort(reverse=True)\n",
        "print(l)\n",
        "l.reverse()\n",
        "print(l)"
      ],
      "execution_count": null,
      "outputs": [
        {
          "output_type": "stream",
          "text": [
            "[9, 6, 5, 8, 7, 3, 2, 4, 1, 0]\n",
            "[9, 8, 7, 6, 5, 4, 3, 2, 1, 0]\n",
            "[0, 1, 2, 3, 4, 5, 6, 7, 8, 9]\n"
          ],
          "name": "stdout"
        }
      ]
    },
    {
      "cell_type": "code",
      "metadata": {
        "id": "lJ_2Pybf3_Vc",
        "outputId": "ff515f0f-31a3-46d3-f9cd-32f9cdc0182c",
        "colab": {
          "base_uri": "https://localhost:8080/"
        }
      },
      "source": [
        "l = ['w','h','i','t','e']\n",
        "print(l)\n",
        "l.insert(5,\"Forest\")\n",
        "print(l)"
      ],
      "execution_count": null,
      "outputs": [
        {
          "output_type": "stream",
          "text": [
            "['w', 'h', 'i', 't', 'e']\n",
            "['w', 'h', 'i', 't', 'e', 'Forest']\n"
          ],
          "name": "stdout"
        }
      ]
    },
    {
      "cell_type": "code",
      "metadata": {
        "id": "VwQk14Qz4uyC",
        "outputId": "95534513-849e-4343-80ec-96abb3d272a6",
        "colab": {
          "base_uri": "https://localhost:8080/"
        }
      },
      "source": [
        "b = int(input())\n",
        "a = [i for i in range(1,b+1)]\n",
        "c = [i**3 for i in range(1,b+1)]\n",
        "x = dict(zip(a,c))\n",
        "print(x,end=\"\")"
      ],
      "execution_count": 5,
      "outputs": [
        {
          "output_type": "stream",
          "text": [
            "7\n",
            "{1: 1, 2: 8, 3: 27, 4: 64, 5: 125, 6: 216, 7: 343}"
          ],
          "name": "stdout"
        }
      ]
    },
    {
      "cell_type": "code",
      "metadata": {
        "id": "vn_RFOtbiUBk",
        "outputId": "49f84e06-a795-4dbf-cb75-7c645b229e66",
        "colab": {
          "base_uri": "https://localhost:8080/"
        }
      },
      "source": [
        "import math\n",
        "n=int(input())\n",
        "move_robot=[]\n",
        "x=0\n",
        "y=0\n",
        "for r in range(n):\n",
        " d=input().split()\n",
        " if d=='UP':\n",
        "   y=y+int(n)\n",
        " if d=='DOWN':\n",
        "    y=y-int(n)\n",
        " if d=='LEFT':\n",
        "    x=x+int(n)\n",
        " if d=='RIGHT':\n",
        "    x=x-int(n)\n",
        "print(round(math.sqrt(x*x+y*y)),end=\"\")        "
      ],
      "execution_count": 6,
      "outputs": [
        {
          "output_type": "stream",
          "text": [
            "4\n",
            "5\n",
            "3\n",
            "3\n",
            "2\n",
            "0"
          ],
          "name": "stdout"
        }
      ]
    }
  ]
}