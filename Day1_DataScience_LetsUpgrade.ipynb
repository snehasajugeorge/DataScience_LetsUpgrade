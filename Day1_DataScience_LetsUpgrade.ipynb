{
  "nbformat": 4,
  "nbformat_minor": 0,
  "metadata": {
    "colab": {
      "name": "Day1_DataScience_LetsUpgrade.ipynb",
      "provenance": [],
      "authorship_tag": "ABX9TyPE2a1PxwbEma00wcRDk9Q+",
      "include_colab_link": true
    },
    "kernelspec": {
      "name": "python3",
      "display_name": "Python 3"
    }
  },
  "cells": [
    {
      "cell_type": "markdown",
      "metadata": {
        "id": "view-in-github",
        "colab_type": "text"
      },
      "source": [
        "<a href=\"https://colab.research.google.com/github/snehasajugeorge/DataScience_LetsUpgrade/blob/main/Day1_DataScience_LetsUpgrade.ipynb\" target=\"_parent\"><img src=\"https://colab.research.google.com/assets/colab-badge.svg\" alt=\"Open In Colab\"/></a>"
      ]
    },
    {
      "cell_type": "code",
      "metadata": {
        "id": "HrMgPtA97S-m"
      },
      "source": [
        "#Q1\n",
        "# Ans: B.RAINBOW"
      ],
      "execution_count": 3,
      "outputs": []
    },
    {
      "cell_type": "code",
      "metadata": {
        "id": "ET9ENJYt7qZb",
        "outputId": "d8d0bafa-2366-480a-80de-0bc30e7c10c3",
        "colab": {
          "base_uri": "https://localhost:8080/"
        }
      },
      "source": [
        "#Q2\n",
        "print(\"LETS UPGRADE\")"
      ],
      "execution_count": 4,
      "outputs": [
        {
          "output_type": "stream",
          "text": [
            "LETS UPGRADE\n"
          ],
          "name": "stdout"
        }
      ]
    },
    {
      "cell_type": "code",
      "metadata": {
        "id": "Qt-QHUsV8D6D",
        "outputId": "f9bd1c45-5b7c-4699-81fa-8572c2f17512",
        "colab": {
          "base_uri": "https://localhost:8080/"
        }
      },
      "source": [
        "cp=float(input())\n",
        "sp=float(input())\n",
        "if sp>cp:\n",
        "  print('Profit',end='')\n",
        "elif cp>sp:\n",
        "  print('Loss',end='')\n",
        "else:\n",
        "  print('Neither',end='')  "
      ],
      "execution_count": 8,
      "outputs": [
        {
          "output_type": "stream",
          "text": [
            "20\n",
            "30\n",
            "Profit"
          ],
          "name": "stdout"
        }
      ]
    },
    {
      "cell_type": "code",
      "metadata": {
        "id": "Tq4Vp2MfE6Pv",
        "outputId": "48575834-975d-48b3-b69a-6fd6581f6724",
        "colab": {
          "base_uri": "https://localhost:8080/"
        }
      },
      "source": [
        "cp=float(input())\n",
        "sp=float(input())\n",
        "if sp>cp:\n",
        "  print('Profit',end='')\n",
        "elif cp>sp:\n",
        "  print('Loss',end='')\n",
        "else:\n",
        "  print('Neither',end='')\n",
        "     "
      ],
      "execution_count": 10,
      "outputs": [
        {
          "output_type": "stream",
          "text": [
            "20\n",
            "10\n",
            "Loss"
          ],
          "name": "stdout"
        }
      ]
    },
    {
      "cell_type": "code",
      "metadata": {
        "id": "b5UQwDoBHf5L",
        "outputId": "746aadd4-e4ac-4739-a255-c882cdfbd1f6",
        "colab": {
          "base_uri": "https://localhost:8080/"
        }
      },
      "source": [
        "cp=float(input())\n",
        "sp=float(input())\n",
        "if sp>cp:\n",
        "  print('Profit',end='')\n",
        "elif cp>sp:\n",
        "  print('Loss',end='')\n",
        "else:\n",
        "  print ('Neither',end='')    "
      ],
      "execution_count": 11,
      "outputs": [
        {
          "output_type": "stream",
          "text": [
            "19\n",
            "19\n",
            "Neither"
          ],
          "name": "stdout"
        }
      ]
    },
    {
      "cell_type": "code",
      "metadata": {
        "id": "8ArZ1dnCIDVe",
        "outputId": "b0c8fd00-05a5-4849-eecc-a4d68a175dae",
        "colab": {
          "base_uri": "https://localhost:8080/"
        }
      },
      "source": [
        "Euros=int(input())\n",
        "print(80*Euros,end='')"
      ],
      "execution_count": 12,
      "outputs": [
        {
          "output_type": "stream",
          "text": [
            "20\n",
            "1600"
          ],
          "name": "stdout"
        }
      ]
    }
  ]
}